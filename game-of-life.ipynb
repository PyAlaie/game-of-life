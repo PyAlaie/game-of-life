{
 "cells": [
  {
   "cell_type": "markdown",
   "metadata": {},
   "source": [
    "# Game Of Life By John Conwey"
   ]
  },
  {
   "cell_type": "code",
   "execution_count": 93,
   "metadata": {},
   "outputs": [],
   "source": [
    "import numpy as np\n",
    "import matplotlib.pyplot as plt\n",
    "from matplotlib.animation import FuncAnimation"
   ]
  },
  {
   "cell_type": "code",
   "execution_count": 184,
   "metadata": {},
   "outputs": [],
   "source": [
    "class World():\n",
    "    def __init__(self, row_count=10, col_count=10) -> None:\n",
    "        self.row_count = row_count\n",
    "        self.col_count = col_count\n",
    "        self.alive_entities_count = 0\n",
    "        self.map = np.zeros((row_count, col_count))\n",
    "    \n",
    "    def __make_alive(self, i, j):\n",
    "        if i > self.row_count or j > self.col_count:\n",
    "            raise IndexError(\"Index out of range!\")\n",
    "        \n",
    "        if self.map[i][j] != 1:\n",
    "            self.map[i][j] = 1\n",
    "            self.alive_entities_count += 1\n",
    "    \n",
    "    def __make_dead(self, i, j):\n",
    "        if i > self.row_count or j > self.col_count:\n",
    "            raise IndexError(\"Index out of range!\")\n",
    "        \n",
    "        if self.map[i][j] != 0:\n",
    "            self.map[i][j] = 0\n",
    "            self.alive_entities_count -= 1\n",
    "            \n",
    "    def __clear_the_border_line(self):\n",
    "        self.map[0,:] = 0\n",
    "        self.map[-1,:] = 0\n",
    "        self.map[:,0] = 0\n",
    "        self.map[:,-1] = 0\n",
    "        \n",
    "    def next_step(self):\n",
    "        mask = [\n",
    "            [1,1,1],\n",
    "            [1,0,1],\n",
    "            [1,1,1]\n",
    "        ]\n",
    "        mask = np.array(mask)\n",
    "        \n",
    "        entities_to_set_alive = []\n",
    "        entities_to_set_dead = []\n",
    "        for i in range(1, self.row_count - 1):\n",
    "            for j in range(1, self.col_count - 1):\n",
    "                sub_map = self.map[i-1:i+2, j-1:j+2]\n",
    "                res = sum(sum(np.multiply(sub_map, mask)))\n",
    "                \n",
    "                if res < 2 or res > 3: # death ny underpopulation and overpopulation\n",
    "                    entities_to_set_dead.append((i,j))\n",
    "                elif not self.is_alive(i, j) and res == 3: # Reproduction\n",
    "                    entities_to_set_alive.append((i,j))\n",
    "                    \n",
    "        for i in entities_to_set_alive:\n",
    "            self.__make_alive(i[0], i[1])\n",
    "        for i in entities_to_set_dead:\n",
    "            self.__make_dead(i[0], i[1])\n",
    "\n",
    "    def set_random_map(self):\n",
    "        self.map = np.random.choice([0, 1], size=(self.row_count, self.col_count), p=[0.8, 0.2])\n",
    "        self.__clear_the_border_line()\n",
    "        self.alive_entities_count = np.count_nonzero(self.map == 1)\n",
    "    \n",
    "    def transform_to_matrix_indices(self, x, y):\n",
    "        middle = self.get_origin_indices()\n",
    "        return (x + middle, y + middle)\n",
    "    \n",
    "    def get_origin_indices(self):\n",
    "        return (self.row_count // 2, self.col_count // 2)\n",
    "            \n",
    "    def is_alive(self, i, j, middle_as_origin=False):\n",
    "        if middle_as_origin:\n",
    "                i, j = self.transform_to_matrix_indices(i, j)\n",
    "                \n",
    "        if i > self.row_count or j > self.col_count:\n",
    "            raise IndexError(\"Index out of range!\")\n",
    "        \n",
    "        return self.map[i][j] == 1\n",
    "            \n",
    "    def set_alive_entities(self, entity_list, middle_as_origin=False):\n",
    "        for entity in entity_list:\n",
    "            indeces = (entity[0], entity[1])\n",
    "            if middle_as_origin:\n",
    "                indeces = self.transform_to_matrix_indices(indeces[0], indeces[1])\n",
    "            self.__make_alive(indeces[0], indeces[1])"
   ]
  },
  {
   "cell_type": "code",
   "execution_count": 188,
   "metadata": {},
   "outputs": [
    {
     "data": {
      "image/png": "[encoded data removed]",
      "text/plain": [
       "<Figure size 432x288 with 1 Axes>"
      ]
     },
     "metadata": {
      "needs_background": "light"
     },
     "output_type": "display_data"
    }
   ],
   "source": [
    "world = World(20,20)\n",
    "world.set_random_map()\n",
    "\n",
    "fig = plt.figure()\n",
    "img = plt.imshow(world.map, cmap='binary', interpolation='nearest')\n",
    "    \n",
    "def animate(i):\n",
    "    world.next_step()\n",
    "    img.set_data(world.map)\n",
    "    return img\n",
    "\n",
    "anim = FuncAnimation(fig, animate, frames=200,\n",
    "                               interval=100)\n",
    "\n",
    "anim.save(\"output.mp4\")"
   ]
  },
  {
   "cell_type": "markdown",
   "metadata": {},
   "source": [
    "## What is this game about?\n",
    "\n",
    "The game of life is a simple game (or maybe the word 'simulation' would better describe it) with an infinite grid and each cell could either be dead or alive. The rules of the game is simple:\n",
    "1. A live cell with 2 or 3 alive neighbors remains alive to the next generation (survival)\n",
    "2. A live cell with less than 2 or more than 3 alive neighbors dies (due to underpopulation and overpopulation)\n",
    "3. A dead cell with exactly 3 alive neighbors becomes a live cell (reproduction)\n",
    "\n",
    "You can set out different initial patterns and let game go on and see how the world turns out to be! Some patterns happen to go extinct while some other grow bigger and bigger as the generations go on. Also there are patterns that stay still through out the time or keep alternating in a few different states. The beauty of this game to me personally, is that it is a good demonstration of the emergence of complexity from simplicity.\n",
    "\n",
    "### A Quick Q&A\n",
    "\n",
    "- What are the main challenges of the implementation of the game?\n",
    "\n",
    "    The actual game is meant to be played on an infinite grid, which I yet have no idea how to achive (I'm open to any ideas btw)\n",
    "\n",
    "- Why was this code created?\n",
    "\n",
    "    Out of bordem.\n",
    "\n",
    "- How to read the code?\n",
    "\n",
    "    I haven't written any documentation for the code since it's pretty much simple and straight forward and anyone with basic python programming knowledge should be fine with code."
   ]
  }
 ],
 "metadata": {
  "kernelspec": {
   "display_name": "Python 3",
   "language": "python",
   "name": "python3"
  },
  "language_info": {
   "codemirror_mode": {
    "name": "ipython",
    "version": 3
   },
   "file_extension": ".py",
   "mimetype": "text/x-python",
   "name": "python",
   "nbconvert_exporter": "python",
   "pygments_lexer": "ipython3",
   "version": "3.10.12"
  }
 },
 "nbformat": 4,
 "nbformat_minor": 2
}
